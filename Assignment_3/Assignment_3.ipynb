{
 "cells": [
  {
   "cell_type": "code",
   "execution_count": 4,
   "id": "bffe0ab1-d9be-40ce-8444-c681d63cdd29",
   "metadata": {},
   "outputs": [
    {
     "data": {
      "image/png": "[encoded data removed]",
      "text/plain": [
       "<Figure size 800x600 with 1 Axes>"
      ]
     },
     "metadata": {},
     "output_type": "display_data"
    },
    {
     "name": "stdout",
     "output_type": "stream",
     "text": [
      "Placed bins: ['A', 'B', 'C', 'D', 'E', 'F']\n",
      "Not placed bins: []\n"
     ]
    }
   ],
   "source": [
    "import matplotlib.pyplot as plt\n",
    "import matplotlib.patches as patches\n",
    "\n",
    "# Input\n",
    "W, H = 20, 11   # Container width & height\n",
    "\n",
    "bins = {\n",
    "    \"A\": (5, 3),\n",
    "    \"B\": (4, 4),\n",
    "    \"C\": (7, 2),\n",
    "    \"D\": (6, 5),\n",
    "    \"E\": (3, 3),\n",
    "    \"F\": (8, 4)\n",
    "}\n",
    "\n",
    "# Choose one fill color for all bins\n",
    "FILL_COLOR = \"#ADD8E6\"  # light blue\n",
    "\n",
    "# Packing Algorithm (row by row)\n",
    "placed = []\n",
    "not_placed = []\n",
    "\n",
    "x, y = 0, 0  # Current position\n",
    "row_height = 0  # Max height of current row\n",
    "placements = []  # Store bin placement info\n",
    "\n",
    "for bid, (bw, bh) in bins.items():  # iterate in insertion order\n",
    "    # If bin does not fit in container at all\n",
    "    if bw > W or bh > H:\n",
    "        not_placed.append(bid)\n",
    "        continue\n",
    "\n",
    "    # If bin doesn't fit in current row, move to new row\n",
    "    if x + bw > W:\n",
    "        x = 0\n",
    "        y += row_height\n",
    "        row_height = 0\n",
    "\n",
    "    # If bin doesn't fit vertically, skip\n",
    "    if y + bh > H:\n",
    "        not_placed.append(bid)\n",
    "        continue\n",
    "\n",
    "    # Place the bin\n",
    "    placements.append((bid, x, y, bw, bh))\n",
    "    placed.append(bid)\n",
    "\n",
    "    # Update cursor\n",
    "    x += bw\n",
    "    row_height = max(row_height, bh)\n",
    "\n",
    "# Visualization\n",
    "fig, ax = plt.subplots(figsize=(8, 6))\n",
    "\n",
    "# Container outline\n",
    "ax.add_patch(patches.Rectangle((0, 0), W, H, fill=False, edgecolor=\"black\", linewidth=2))\n",
    "\n",
    "# Draw bins (same color for all, black border)\n",
    "for bid, x, y, bw, bh in placements:\n",
    "    rect = patches.Rectangle((x, y), bw, bh, facecolor=FILL_COLOR, edgecolor=\"black\", linewidth=1.5)\n",
    "    ax.add_patch(rect)\n",
    "    ax.text(x + bw/2, y + bh/2, bid, ha=\"center\", va=\"center\",\n",
    "            fontsize=10, color=\"black\", weight=\"bold\")\n",
    "\n",
    "ax.set_xlim(0, W)\n",
    "ax.set_ylim(0, H)\n",
    "ax.set_aspect(\"equal\")\n",
    "ax.set_title(f\"Bin Packing in Container ({W}×{H})\")\n",
    "plt.show()\n",
    "\n",
    "# Output results\n",
    "print(\"Placed bins:\", placed)\n",
    "print(\"Not placed bins:\", not_placed)\n"
   ]
  },
  {
   "cell_type": "code",
   "execution_count": null,
   "id": "967f911d-7d60-4b22-a84a-982f6e627ac9",
   "metadata": {},
   "outputs": [],
   "source": []
  }
 ],
 "metadata": {
  "kernelspec": {
   "display_name": "Python 3 (ipykernel)",
   "language": "python",
   "name": "python3"
  },
  "language_info": {
   "codemirror_mode": {
    "name": "ipython",
    "version": 3
   },
   "file_extension": ".py",
   "mimetype": "text/x-python",
   "name": "python",
   "nbconvert_exporter": "python",
   "pygments_lexer": "ipython3",
   "version": "3.12.7"
  }
 },
 "nbformat": 4,
 "nbformat_minor": 5
}
